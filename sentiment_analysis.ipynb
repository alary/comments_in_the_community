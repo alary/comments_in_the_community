{
  "nbformat": 4,
  "nbformat_minor": 0,
  "metadata": {
    "kernelspec": {
      "display_name": "Python 3",
      "language": "python",
      "name": "python3"
    },
    "language_info": {
      "codemirror_mode": {
        "name": "ipython",
        "version": 3
      },
      "file_extension": ".py",
      "mimetype": "text/x-python",
      "name": "python",
      "nbconvert_exporter": "python",
      "pygments_lexer": "ipython3",
      "version": "3.7.8"
    },
    "toc": {
      "base_numbering": 1,
      "nav_menu": {},
      "number_sections": true,
      "sideBar": true,
      "skip_h1_title": true,
      "title_cell": "Table of Contents",
      "title_sidebar": "Contents",
      "toc_cell": false,
      "toc_position": {},
      "toc_section_display": true,
      "toc_window_display": false
    },
    "colab": {
      "name": "P13_Анализ тональности текста.ipynb",
      "provenance": []
    }
  },
  "cells": [
    {
      "cell_type": "markdown",
      "metadata": {
        "id": "rz3jxo4_z6gO"
      },
      "source": [
        "## Описание проекта\n",
        "Магазину нужен инструмент, который будет искать токсичные комментарии и отправлять их на модерацию. \n",
        "\n",
        "Необходимо обучить модель классифицировать комментарии на позитивные и негативные. \n",
        "\n",
        "## Исходные данные\n",
        "\n",
        "Набор данных с разметкой о токсичности правок.\n",
        "\n",
        "- *text* - текст комментария\n",
        "- *toxic* — целевой признак\n",
        "___\n",
        "## Содержание\n",
        "* 1.Подготовка данных\n",
        " * [1.1 Загрузка данных и библиотек](#1.1-bullet)\n",
        " * [1.2 Предподготовка данных](#1.2-bullet)\n",
        " * [1.3 Подготовка данных к обучению моделей](#1.3-bullet)\n",
        "* 2.Обучение моделей\n",
        " * [2.1 Обучение модели с помощью Логистической регрессии](#2.1-bullet)    \n",
        " * [2.2 Обучение модели с помощью Линейного метода опорных векторов](#2.2-bullet) \n",
        " * [2.3 Обучение модели с помощью Случайного леса](#2.3-bullet) \n",
        " * [2.4 Сравнение качества предсказания моделей](#2.4-bullet) \n",
        "* [3.Общие выводы](#3-bullet)\n"
      ]
    },
    {
      "cell_type": "markdown",
      "metadata": {
        "id": "UJQarrv4z6gO"
      },
      "source": [
        "# 1. Подготовка данных"
      ]
    },
    {
      "cell_type": "markdown",
      "metadata": {
        "id": "BC6Ifk6yz6gP"
      },
      "source": [
        "<a id='1.1-bullet'></a>\n",
        "### 1.1 Загрузка данных и библиотек"
      ]
    },
    {
      "cell_type": "code",
      "metadata": {
        "id": "CBwpCNtcz6gP",
        "outputId": "ed2dabf8-849d-43f5-f38c-a1e67598c8c0"
      },
      "source": [
        "# Загрузим необходимые библиотеки\n",
        "import pandas as pd\n",
        "import pandas as pd\n",
        "import numpy as np\n",
        "import nltk\n",
        "from nltk.stem import WordNetLemmatizer \n",
        "from nltk.tokenize import WhitespaceTokenizer \n",
        "from nltk.corpus import wordnet\n",
        "from nltk.corpus import stopwords\n",
        "nltk.download('averaged_perceptron_tagger')\n",
        "import re\n",
        "from sklearn.feature_extraction.text import CountVectorizer\n",
        "from sklearn.svm import LinearSVC\n",
        "from sklearn.linear_model import LogisticRegression\n",
        "from sklearn.tree import DecisionTreeClassifier\n",
        "from sklearn.ensemble import RandomForestClassifier\n",
        "from sklearn.model_selection import train_test_split, cross_val_score, GridSearchCV\n",
        "from sklearn.metrics import f1_score\n",
        "import time\n",
        "import matplotlib as plt"
      ],
      "execution_count": null,
      "outputs": [
        {
          "output_type": "stream",
          "text": [
            "[nltk_data] Downloading package averaged_perceptron_tagger to\n",
            "[nltk_data]     /home/jovyan/nltk_data...\n",
            "[nltk_data]   Package averaged_perceptron_tagger is already up-to-\n",
            "[nltk_data]       date!\n"
          ],
          "name": "stderr"
        }
      ]
    },
    {
      "cell_type": "code",
      "metadata": {
        "id": "vTvJ56Nlz6gR",
        "outputId": "c1a6c429-f864-49c4-f2e7-6ef3d1de1f85"
      },
      "source": [
        "# Загрузим исходные данные\n",
        "comments = pd.read_csv('/datasets/toxic_comments.csv')\n",
        "comments.head()"
      ],
      "execution_count": null,
      "outputs": [
        {
          "output_type": "execute_result",
          "data": {
            "text/html": [
              "<div>\n",
              "<style scoped>\n",
              "    .dataframe tbody tr th:only-of-type {\n",
              "        vertical-align: middle;\n",
              "    }\n",
              "\n",
              "    .dataframe tbody tr th {\n",
              "        vertical-align: top;\n",
              "    }\n",
              "\n",
              "    .dataframe thead th {\n",
              "        text-align: right;\n",
              "    }\n",
              "</style>\n",
              "<table border=\"1\" class=\"dataframe\">\n",
              "  <thead>\n",
              "    <tr style=\"text-align: right;\">\n",
              "      <th></th>\n",
              "      <th>text</th>\n",
              "      <th>toxic</th>\n",
              "    </tr>\n",
              "  </thead>\n",
              "  <tbody>\n",
              "    <tr>\n",
              "      <td>0</td>\n",
              "      <td>Explanation\\nWhy the edits made under my usern...</td>\n",
              "      <td>0</td>\n",
              "    </tr>\n",
              "    <tr>\n",
              "      <td>1</td>\n",
              "      <td>D'aww! He matches this background colour I'm s...</td>\n",
              "      <td>0</td>\n",
              "    </tr>\n",
              "    <tr>\n",
              "      <td>2</td>\n",
              "      <td>Hey man, I'm really not trying to edit war. It...</td>\n",
              "      <td>0</td>\n",
              "    </tr>\n",
              "    <tr>\n",
              "      <td>3</td>\n",
              "      <td>\"\\nMore\\nI can't make any real suggestions on ...</td>\n",
              "      <td>0</td>\n",
              "    </tr>\n",
              "    <tr>\n",
              "      <td>4</td>\n",
              "      <td>You, sir, are my hero. Any chance you remember...</td>\n",
              "      <td>0</td>\n",
              "    </tr>\n",
              "  </tbody>\n",
              "</table>\n",
              "</div>"
            ],
            "text/plain": [
              "                                                text  toxic\n",
              "0  Explanation\\nWhy the edits made under my usern...      0\n",
              "1  D'aww! He matches this background colour I'm s...      0\n",
              "2  Hey man, I'm really not trying to edit war. It...      0\n",
              "3  \"\\nMore\\nI can't make any real suggestions on ...      0\n",
              "4  You, sir, are my hero. Any chance you remember...      0"
            ]
          },
          "metadata": {
            "tags": []
          },
          "execution_count": 2
        }
      ]
    },
    {
      "cell_type": "code",
      "metadata": {
        "id": "2fCzgJ91z6gS",
        "outputId": "7f86df15-a896-4f3b-e51d-ba7d8e42e405"
      },
      "source": [
        "# Просмотри информацию об исходных данных\n",
        "comments.info()"
      ],
      "execution_count": null,
      "outputs": [
        {
          "output_type": "stream",
          "text": [
            "<class 'pandas.core.frame.DataFrame'>\n",
            "RangeIndex: 159571 entries, 0 to 159570\n",
            "Data columns (total 2 columns):\n",
            "text     159571 non-null object\n",
            "toxic    159571 non-null int64\n",
            "dtypes: int64(1), object(1)\n",
            "memory usage: 2.4+ MB\n"
          ],
          "name": "stdout"
        }
      ]
    },
    {
      "cell_type": "markdown",
      "metadata": {
        "id": "mJaa6E6fz6gS"
      },
      "source": [
        "<a id='1.2-bullet'></a>\n",
        "### 1.2 Предподготовка данных"
      ]
    },
    {
      "cell_type": "code",
      "metadata": {
        "id": "8jx9zqyzz6gT"
      },
      "source": [
        "# Создадим ф-ию \"clean_text\" кот-ая очистить текст от лишних символов и пробелов\n",
        "def clean_text(text):\n",
        "    clean_text = re.sub(r'[^A-Za-z]', ' ', text)\n",
        "    split_text = clean_text.lower().split()\n",
        "    join_text = ' '.join(split_text)\n",
        "    return join_text"
      ],
      "execution_count": null,
      "outputs": []
    },
    {
      "cell_type": "code",
      "metadata": {
        "id": "t6Pffa-hz6gT",
        "outputId": "226d7e70-de92-4f42-c778-b24d9110caa7"
      },
      "source": [
        "# Удалим лишние символы с помощью ф-ии \"clean _text\"\n",
        "comments['lem_text'] = comments['text'].apply(clean_text)\n",
        "comments.head()"
      ],
      "execution_count": null,
      "outputs": [
        {
          "output_type": "execute_result",
          "data": {
            "text/html": [
              "<div>\n",
              "<style scoped>\n",
              "    .dataframe tbody tr th:only-of-type {\n",
              "        vertical-align: middle;\n",
              "    }\n",
              "\n",
              "    .dataframe tbody tr th {\n",
              "        vertical-align: top;\n",
              "    }\n",
              "\n",
              "    .dataframe thead th {\n",
              "        text-align: right;\n",
              "    }\n",
              "</style>\n",
              "<table border=\"1\" class=\"dataframe\">\n",
              "  <thead>\n",
              "    <tr style=\"text-align: right;\">\n",
              "      <th></th>\n",
              "      <th>text</th>\n",
              "      <th>toxic</th>\n",
              "      <th>lem_text</th>\n",
              "    </tr>\n",
              "  </thead>\n",
              "  <tbody>\n",
              "    <tr>\n",
              "      <td>0</td>\n",
              "      <td>Explanation\\nWhy the edits made under my usern...</td>\n",
              "      <td>0</td>\n",
              "      <td>explanation why the edits made under my userna...</td>\n",
              "    </tr>\n",
              "    <tr>\n",
              "      <td>1</td>\n",
              "      <td>D'aww! He matches this background colour I'm s...</td>\n",
              "      <td>0</td>\n",
              "      <td>d aww he matches this background colour i m se...</td>\n",
              "    </tr>\n",
              "    <tr>\n",
              "      <td>2</td>\n",
              "      <td>Hey man, I'm really not trying to edit war. It...</td>\n",
              "      <td>0</td>\n",
              "      <td>hey man i m really not trying to edit war it s...</td>\n",
              "    </tr>\n",
              "    <tr>\n",
              "      <td>3</td>\n",
              "      <td>\"\\nMore\\nI can't make any real suggestions on ...</td>\n",
              "      <td>0</td>\n",
              "      <td>more i can t make any real suggestions on impr...</td>\n",
              "    </tr>\n",
              "    <tr>\n",
              "      <td>4</td>\n",
              "      <td>You, sir, are my hero. Any chance you remember...</td>\n",
              "      <td>0</td>\n",
              "      <td>you sir are my hero any chance you remember wh...</td>\n",
              "    </tr>\n",
              "  </tbody>\n",
              "</table>\n",
              "</div>"
            ],
            "text/plain": [
              "                                                text  toxic  \\\n",
              "0  Explanation\\nWhy the edits made under my usern...      0   \n",
              "1  D'aww! He matches this background colour I'm s...      0   \n",
              "2  Hey man, I'm really not trying to edit war. It...      0   \n",
              "3  \"\\nMore\\nI can't make any real suggestions on ...      0   \n",
              "4  You, sir, are my hero. Any chance you remember...      0   \n",
              "\n",
              "                                            lem_text  \n",
              "0  explanation why the edits made under my userna...  \n",
              "1  d aww he matches this background colour i m se...  \n",
              "2  hey man i m really not trying to edit war it s...  \n",
              "3  more i can t make any real suggestions on impr...  \n",
              "4  you sir are my hero any chance you remember wh...  "
            ]
          },
          "metadata": {
            "tags": []
          },
          "execution_count": 5
        }
      ]
    },
    {
      "cell_type": "code",
      "metadata": {
        "id": "k5ygYk-lz6gT"
      },
      "source": [
        "# Создадим класс для лемматизации и токенизации\n",
        "tokenizer = WhitespaceTokenizer()\n",
        "lemmatizer = WordNetLemmatizer()"
      ],
      "execution_count": null,
      "outputs": []
    },
    {
      "cell_type": "code",
      "metadata": {
        "id": "8BpvPD6Ez6gT"
      },
      "source": [
        "# Создадим ф-ию кот-ая определить POS-теги для каждого слова в твитах\n",
        "def nltk_pos(word):\n",
        "    tag = nltk.pos_tag([word])[0][1][0].upper()\n",
        "    tag_dict = {\"J\": wordnet.ADJ,\n",
        "                \"N\": wordnet.NOUN,\n",
        "                \"V\": wordnet.VERB,\n",
        "                \"R\": wordnet.ADV}\n",
        "    return tag_dict.get(tag, wordnet.NOUN) "
      ],
      "execution_count": null,
      "outputs": []
    },
    {
      "cell_type": "code",
      "metadata": {
        "id": "HQsuEcYSz6gU"
      },
      "source": [
        "# Создадим ф-ию кот-ая выполнит лемматизацию и токенизацию твитов\n",
        "def lemmatize(text):\n",
        "    return ' '.join([lemmatizer.lemmatize(word, nltk_pos(word)) for word in tokenizer.tokenize(text)])"
      ],
      "execution_count": null,
      "outputs": []
    },
    {
      "cell_type": "code",
      "metadata": {
        "id": "5NGnkKkxz6gU"
      },
      "source": [
        "# Применим ф-ии \"nltk_pos\" и \"lemmatize\" для обработки твитов и сохранbv обработанные тексты в новый столбец \"lem_text\"\n",
        "comments['lem_text'] = comments['lem_text'].apply(lemmatize)"
      ],
      "execution_count": null,
      "outputs": []
    },
    {
      "cell_type": "code",
      "metadata": {
        "id": "J-S_re9Yz6gU",
        "outputId": "ec3e1011-f12e-4a49-e0d5-507407a158d2"
      },
      "source": [
        "# Просмотрим результат обработки \n",
        "comments.head()"
      ],
      "execution_count": null,
      "outputs": [
        {
          "output_type": "execute_result",
          "data": {
            "text/html": [
              "<div>\n",
              "<style scoped>\n",
              "    .dataframe tbody tr th:only-of-type {\n",
              "        vertical-align: middle;\n",
              "    }\n",
              "\n",
              "    .dataframe tbody tr th {\n",
              "        vertical-align: top;\n",
              "    }\n",
              "\n",
              "    .dataframe thead th {\n",
              "        text-align: right;\n",
              "    }\n",
              "</style>\n",
              "<table border=\"1\" class=\"dataframe\">\n",
              "  <thead>\n",
              "    <tr style=\"text-align: right;\">\n",
              "      <th></th>\n",
              "      <th>text</th>\n",
              "      <th>toxic</th>\n",
              "      <th>lem_text</th>\n",
              "    </tr>\n",
              "  </thead>\n",
              "  <tbody>\n",
              "    <tr>\n",
              "      <td>0</td>\n",
              "      <td>Explanation\\nWhy the edits made under my usern...</td>\n",
              "      <td>0</td>\n",
              "      <td>explanation why the edits make under my userna...</td>\n",
              "    </tr>\n",
              "    <tr>\n",
              "      <td>1</td>\n",
              "      <td>D'aww! He matches this background colour I'm s...</td>\n",
              "      <td>0</td>\n",
              "      <td>d aww he match this background colour i m seem...</td>\n",
              "    </tr>\n",
              "    <tr>\n",
              "      <td>2</td>\n",
              "      <td>Hey man, I'm really not trying to edit war. It...</td>\n",
              "      <td>0</td>\n",
              "      <td>hey man i m really not try to edit war it s ju...</td>\n",
              "    </tr>\n",
              "    <tr>\n",
              "      <td>3</td>\n",
              "      <td>\"\\nMore\\nI can't make any real suggestions on ...</td>\n",
              "      <td>0</td>\n",
              "      <td>more i can t make any real suggestion on impro...</td>\n",
              "    </tr>\n",
              "    <tr>\n",
              "      <td>4</td>\n",
              "      <td>You, sir, are my hero. Any chance you remember...</td>\n",
              "      <td>0</td>\n",
              "      <td>you sir be my hero any chance you remember wha...</td>\n",
              "    </tr>\n",
              "  </tbody>\n",
              "</table>\n",
              "</div>"
            ],
            "text/plain": [
              "                                                text  toxic  \\\n",
              "0  Explanation\\nWhy the edits made under my usern...      0   \n",
              "1  D'aww! He matches this background colour I'm s...      0   \n",
              "2  Hey man, I'm really not trying to edit war. It...      0   \n",
              "3  \"\\nMore\\nI can't make any real suggestions on ...      0   \n",
              "4  You, sir, are my hero. Any chance you remember...      0   \n",
              "\n",
              "                                            lem_text  \n",
              "0  explanation why the edits make under my userna...  \n",
              "1  d aww he match this background colour i m seem...  \n",
              "2  hey man i m really not try to edit war it s ju...  \n",
              "3  more i can t make any real suggestion on impro...  \n",
              "4  you sir be my hero any chance you remember wha...  "
            ]
          },
          "metadata": {
            "tags": []
          },
          "execution_count": 10
        }
      ]
    },
    {
      "cell_type": "markdown",
      "metadata": {
        "id": "k21DLp_Xz6gV"
      },
      "source": [
        "<a id='1.3-bullet'></a>\n",
        "### 1.3 Подготовка данных к обучению моделей"
      ]
    },
    {
      "cell_type": "code",
      "metadata": {
        "id": "Y4pTRE9wz6gV",
        "outputId": "dd3425ab-cef1-4e98-e3a1-85066a84dc8b"
      },
      "source": [
        "# Выделим из исходной выборки тестовую выборку\n",
        "train_valid, test = train_test_split(comments, test_size=0.2, random_state=12345)  \n",
        "print(train_valid.shape, test.shape)"
      ],
      "execution_count": null,
      "outputs": [
        {
          "output_type": "stream",
          "text": [
            "(127656, 3) (31915, 3)\n"
          ],
          "name": "stdout"
        }
      ]
    },
    {
      "cell_type": "code",
      "metadata": {
        "id": "i1kTeshiz6gV",
        "outputId": "b4c4cd9e-db65-466e-e440-d728d9099f48"
      },
      "source": [
        "# Разделим выборку train_valid на обучающую и валидационную выборки \n",
        "train, valid = train_test_split(train_valid, test_size=0.25, random_state=12345)  \n",
        "print(train.shape, valid.shape)"
      ],
      "execution_count": null,
      "outputs": [
        {
          "output_type": "stream",
          "text": [
            "(95742, 3) (31914, 3)\n"
          ],
          "name": "stdout"
        }
      ]
    },
    {
      "cell_type": "code",
      "metadata": {
        "id": "_sl-foTRz6gV"
      },
      "source": [
        "# Получим набор текстов в кодировке Юникод для обучающей, валидационной и тестовой выборок\n",
        "corpus_train = train['lem_text'].values.astype('U')\n",
        "corpus_valid = valid['lem_text'].values.astype('U')\n",
        "corpus_test = test['lem_text'].values.astype('U')"
      ],
      "execution_count": null,
      "outputs": []
    },
    {
      "cell_type": "code",
      "metadata": {
        "id": "D5QUFR5Pz6gV",
        "outputId": "1f6f5c2f-31ad-4595-d252-a35b398cd66e"
      },
      "source": [
        "# Преобразуем корпус слов в мешок слов с учетом исключения стоп-слов \n",
        "stopwords = set(stopwords.words('english'))\n",
        "count_vect = CountVectorizer(analyzer='word', stop_words=stopwords)\n",
        "count_vect.fit(corpus_train)\n",
        "count_vect_train = count_vect.transform(corpus_train) \n",
        "count_vect_valid = count_vect.transform(corpus_valid) \n",
        "count_vect_test = count_vect.transform(corpus_test) \n",
        "\n",
        "# Посмотрим размер полученных в результате кодировки выборок\n",
        "print(count_vect_train.shape, count_vect_valid.shape, count_vect_test.shape)"
      ],
      "execution_count": null,
      "outputs": [
        {
          "output_type": "stream",
          "text": [
            "(95742, 110885) (31914, 110885) (31915, 110885)\n"
          ],
          "name": "stdout"
        }
      ]
    },
    {
      "cell_type": "code",
      "metadata": {
        "id": "_tdN2Fsuz6gW",
        "outputId": "968e583b-3a05-4cc8-9207-22badca5e313"
      },
      "source": [
        "# Посмотрим количество найденных стоп-слов\n",
        "len(stopwords)"
      ],
      "execution_count": null,
      "outputs": [
        {
          "output_type": "execute_result",
          "data": {
            "text/plain": [
              "179"
            ]
          },
          "metadata": {
            "tags": []
          },
          "execution_count": 15
        }
      ]
    },
    {
      "cell_type": "code",
      "metadata": {
        "id": "4q2EKa6vz6gW"
      },
      "source": [
        "# Сохраним в отдельные переменные целевые признаки для обучающей, валидационной и тестовой выборок\n",
        "target_train = train['toxic']\n",
        "target_valid = valid['toxic']\n",
        "target_test = test['toxic']\n",
        "\n",
        "# Сохраним в отдельные переменные признаки для обучающей, валидационной и тестовой выборок\n",
        "features_train = count_vect_train\n",
        "features_valid = count_vect_valid\n",
        "features_test = count_vect_test"
      ],
      "execution_count": null,
      "outputs": []
    },
    {
      "cell_type": "markdown",
      "metadata": {
        "id": "CHDUBVpqz6gW"
      },
      "source": [
        "### Вывод по п.1"
      ]
    },
    {
      "cell_type": "markdown",
      "metadata": {
        "id": "30jQVK45z6gX"
      },
      "source": [
        "Для лемматизации и токинизации твитов применена баблиотека `ntlk`, с учетом POS-тегов.\n",
        "Для векторизации текста, а так же для исключения стоп-слов использована функция `CountVectorizer()`. \n",
        "Во всех твитах найдено 179 стоп-слов. \n",
        "Датасет существенно увеличился после кодирования, вместо 3 столбцов он теперь содержит 110885 столбцов. "
      ]
    },
    {
      "cell_type": "markdown",
      "metadata": {
        "id": "uWz0ngryz6gX"
      },
      "source": [
        "# 2. Обучение моделей"
      ]
    },
    {
      "cell_type": "markdown",
      "metadata": {
        "id": "psdnuxS9z6gY"
      },
      "source": [
        "<a id='2.1-bullet'></a>\n",
        "### 2.1 Обучение модели с помощью Логистической регрессии"
      ]
    },
    {
      "cell_type": "code",
      "metadata": {
        "id": "CUA9M6R4z6gY",
        "outputId": "b7a50d03-0c70-480d-a6ba-c736f1b0b6df"
      },
      "source": [
        "# Обучим модель с помощью Логистической регрессии. \n",
        "# Для определения гиперпараметров используем GridSearch\n",
        "param_LR = {'C': [0.1, 1, 10]}\n",
        "\n",
        "gs_LR = GridSearchCV(LogisticRegression(), param_LR, cv=2)\n",
        "gs_LR.fit(features_valid, target_valid)\n",
        "print(gs_LR.best_params_)"
      ],
      "execution_count": null,
      "outputs": [
        {
          "output_type": "stream",
          "text": [
            "/opt/conda/lib/python3.7/site-packages/sklearn/linear_model/logistic.py:432: FutureWarning: Default solver will be changed to 'lbfgs' in 0.22. Specify a solver to silence this warning.\n",
            "  FutureWarning)\n",
            "/opt/conda/lib/python3.7/site-packages/sklearn/svm/base.py:929: ConvergenceWarning: Liblinear failed to converge, increase the number of iterations.\n",
            "  \"the number of iterations.\", ConvergenceWarning)\n"
          ],
          "name": "stderr"
        },
        {
          "output_type": "stream",
          "text": [
            "{'C': 10}\n"
          ],
          "name": "stdout"
        }
      ]
    },
    {
      "cell_type": "code",
      "metadata": {
        "id": "YVazkDrZz6gY",
        "outputId": "a3a83164-6361-49f4-c057-2ae4ff24d3df"
      },
      "source": [
        "# Обучим модель с помощью Логистической регрессии с учетом гиперпараметра С=10\n",
        "start_learn_LR = time.time()\n",
        "model_LR = LogisticRegression(C=10, multi_class='auto', solver='lbfgs')\n",
        "model_LR.fit(features_train, target_train)\n",
        "end_learn_LR = time.time()"
      ],
      "execution_count": null,
      "outputs": [
        {
          "output_type": "stream",
          "text": [
            "/opt/conda/lib/python3.7/site-packages/sklearn/linear_model/logistic.py:947: ConvergenceWarning: lbfgs failed to converge. Increase the number of iterations.\n",
            "  \"of iterations.\", ConvergenceWarning)\n"
          ],
          "name": "stderr"
        }
      ]
    },
    {
      "cell_type": "code",
      "metadata": {
        "id": "xTrcbfHvz6gZ"
      },
      "source": [
        "# Получим предсказания с помощью обученной модели \"model_LR\" и определим метрику F1\n",
        "start_predict_LR = time.time()\n",
        "prediction_LR = model_LR.predict(features_test)\n",
        "end_predict_LR = time.time()"
      ],
      "execution_count": null,
      "outputs": []
    },
    {
      "cell_type": "code",
      "metadata": {
        "id": "nBgRwpKcz6gZ",
        "outputId": "b8e8a2e1-ecb7-491d-9517-184d9dc38590"
      },
      "source": [
        "f1_LR = f1_score(target_test, prediction_LR)\n",
        "learn_time_LR = round((end_learn_LR - start_learn_LR), 3) \n",
        "predict_time_LR = round((end_predict_LR - start_predict_LR), 3) \n",
        "\n",
        "print('Метрика F1', f1_LR)\n",
        "print('Время обучения', learn_time_LR)\n",
        "print('Время предсказания', predict_time_LR)"
      ],
      "execution_count": null,
      "outputs": [
        {
          "output_type": "stream",
          "text": [
            "Метрика F1 0.7638418079096045\n",
            "Время обучения 50.307\n",
            "Время предсказания 0.095\n"
          ],
          "name": "stdout"
        }
      ]
    },
    {
      "cell_type": "markdown",
      "metadata": {
        "id": "ax-dbFoJz6gZ"
      },
      "source": [
        "<a id='2.2-bullet'></a>\n",
        "### 2.2 Обучение модели с помощью Линейного метода опорных векторов"
      ]
    },
    {
      "cell_type": "code",
      "metadata": {
        "id": "P2gnLiBaz6gZ",
        "outputId": "0fccc99e-e589-4fa0-ac9b-88956e676ca7"
      },
      "source": [
        "# Обучим модель с помощью Линейного метода опорных векторов.\n",
        "# Для определения гиперпараметров используем GridSearch\n",
        "param_SVC = {'C': [0.4, 0.6, 0.8]}\n",
        "\n",
        "gs_SVC = GridSearchCV(LinearSVC(), param_SVC, cv=2)\n",
        "gs_SVC.fit(features_valid, target_valid)\n",
        "print(gs_SVC.best_params_)"
      ],
      "execution_count": null,
      "outputs": [
        {
          "output_type": "stream",
          "text": [
            "/opt/conda/lib/python3.7/site-packages/sklearn/svm/base.py:929: ConvergenceWarning: Liblinear failed to converge, increase the number of iterations.\n",
            "  \"the number of iterations.\", ConvergenceWarning)\n"
          ],
          "name": "stderr"
        },
        {
          "output_type": "stream",
          "text": [
            "{'C': 0.4}\n"
          ],
          "name": "stdout"
        }
      ]
    },
    {
      "cell_type": "code",
      "metadata": {
        "id": "E-gM03THz6ga"
      },
      "source": [
        "# Обучим модель с помощью Линейного метода опорных векторов с учетом гиперпараметра С=0.4\n",
        "start_learn_LSVC = time.time()\n",
        "model_LSVC = LinearSVC(C=0.4, random_state=12345)\n",
        "model_LSVC.fit(features_train, target_train)\n",
        "end_learn_LSVC = time.time()"
      ],
      "execution_count": null,
      "outputs": []
    },
    {
      "cell_type": "code",
      "metadata": {
        "id": "0Kb8wGpXz6ga"
      },
      "source": [
        "# Получим предсказания с помощью обученной модели \"model_LSVC\" и определим метрику F1\n",
        "start_predict_LSVC = time.time()\n",
        "prediction_LSVC = model_LSVC.predict(features_test)\n",
        "end_predict_LSVC = time.time()"
      ],
      "execution_count": null,
      "outputs": []
    },
    {
      "cell_type": "code",
      "metadata": {
        "id": "0sJf8UjZz6ga",
        "outputId": "e3744bd7-d3d4-4f81-b36f-c35310fdd489"
      },
      "source": [
        "f1_LSVC = f1_score(target_test, prediction_LSVC)\n",
        "learn_time_LSVC = round((end_learn_LSVC - start_learn_LSVC), 3) \n",
        "predict_time_LSVC = round((end_predict_LSVC - start_predict_LSVC), 3) \n",
        "\n",
        "print('Метрика F1', f1_LSVC)\n",
        "print('Время обучения', learn_time_LSVC)\n",
        "print('Время предсказания', predict_time_LSVC)"
      ],
      "execution_count": null,
      "outputs": [
        {
          "output_type": "stream",
          "text": [
            "Метрика F1 0.7632865992826866\n",
            "Время обучения 8.057\n",
            "Время предсказания 0.005\n"
          ],
          "name": "stdout"
        }
      ]
    },
    {
      "cell_type": "markdown",
      "metadata": {
        "id": "4PzxBYfoz6ga"
      },
      "source": [
        "<a id='2.3-bullet'></a>\n",
        "### 2.3 Обучение модели с помощью Случайного леса"
      ]
    },
    {
      "cell_type": "code",
      "metadata": {
        "scrolled": true,
        "id": "PVGE-KvRz6ga",
        "outputId": "4529847e-c6d4-47c1-c67a-af1a9704b946"
      },
      "source": [
        "# Обучим модель с помощью Случайного леса.\n",
        "# Для определения гиперпараметров используем GridSearch\n",
        "param_RF = {'n_estimators': range(61, 65, 1)}\n",
        "\n",
        "gs_RF = GridSearchCV(RandomForestClassifier(), param_RF, cv=2)\n",
        "gs_RF.fit(features_valid, target_valid)\n",
        "print(gs_RF.best_params_)"
      ],
      "execution_count": null,
      "outputs": [
        {
          "output_type": "stream",
          "text": [
            "{'n_estimators': 64}\n"
          ],
          "name": "stdout"
        }
      ]
    },
    {
      "cell_type": "code",
      "metadata": {
        "id": "taZCucqTz6ga"
      },
      "source": [
        "# Обучим модель с помощью Случайного леса с учетом гиперпараметров\n",
        "start_learn_RF = time.time()\n",
        "model_RF = RandomForestClassifier(n_estimators=63, random_state=12345)\n",
        "model_RF.fit(features_train, target_train)\n",
        "end_learn_RF = time.time()"
      ],
      "execution_count": null,
      "outputs": []
    },
    {
      "cell_type": "code",
      "metadata": {
        "id": "HpCZzw9tz6gb"
      },
      "source": [
        "# Получим предсказания с помощью обученной модели \"model_RF\" и определим метрику F1\n",
        "start_predict_RF = time.time()\n",
        "prediction_RF = model_RF.predict(features_test)\n",
        "end_predict_RF = time.time()"
      ],
      "execution_count": null,
      "outputs": []
    },
    {
      "cell_type": "code",
      "metadata": {
        "id": "XlrwnZ63z6gb",
        "outputId": "73722225-78b1-483b-a0e9-6915b20fec4a"
      },
      "source": [
        "f1_RF = f1_score(target_test, prediction_RF)\n",
        "learn_time_RF = round((end_learn_RF - start_learn_RF), 3) \n",
        "predict_time_RF = round((end_predict_RF - start_predict_RF), 3) \n",
        "\n",
        "print('Метрика F1', f1_RF)\n",
        "print('Время обучения', learn_time_RF)\n",
        "print('Время предсказания', predict_time_RF)"
      ],
      "execution_count": null,
      "outputs": [
        {
          "output_type": "stream",
          "text": [
            "Метрика F1 0.6930022573363432\n",
            "Время обучения 326.835\n",
            "Время предсказания 3.72\n"
          ],
          "name": "stdout"
        }
      ]
    },
    {
      "cell_type": "markdown",
      "metadata": {
        "id": "5dnw-hdez6gb"
      },
      "source": [
        "<a id='2.4-bullet'></a>\n",
        "### 2.4 Сравнение качества предсказания моделей"
      ]
    },
    {
      "cell_type": "code",
      "metadata": {
        "id": "791xCtW0z6gb",
        "outputId": "cae380ba-5ebe-4264-a8d8-c8ae674f6b6d"
      },
      "source": [
        "# Соберем полученные метрики в общую таблицу для наглядности\n",
        "metrics = {'LogisticRegression' :['model_LR', f1_LR, learn_time_LR, predict_time_LR],\n",
        "           'LinearSVC' :['model_LSVC', f1_LSVC, learn_time_LSVC, predict_time_LSVC],\n",
        "           'RandomForestClassifier': ['model_RF', f1_RF, learn_time_RF, predict_time_RF]}\n",
        "result = pd.DataFrame.from_dict(metrics, orient='index', columns=['Название модели', 'Метрика F1', 'Время обучения',\n",
        "                                                                 'Время предсказания'])\n",
        "result"
      ],
      "execution_count": null,
      "outputs": [
        {
          "output_type": "execute_result",
          "data": {
            "text/html": [
              "<div>\n",
              "<style scoped>\n",
              "    .dataframe tbody tr th:only-of-type {\n",
              "        vertical-align: middle;\n",
              "    }\n",
              "\n",
              "    .dataframe tbody tr th {\n",
              "        vertical-align: top;\n",
              "    }\n",
              "\n",
              "    .dataframe thead th {\n",
              "        text-align: right;\n",
              "    }\n",
              "</style>\n",
              "<table border=\"1\" class=\"dataframe\">\n",
              "  <thead>\n",
              "    <tr style=\"text-align: right;\">\n",
              "      <th></th>\n",
              "      <th>Название модели</th>\n",
              "      <th>Метрика F1</th>\n",
              "      <th>Время обучения</th>\n",
              "      <th>Время предсказания</th>\n",
              "    </tr>\n",
              "  </thead>\n",
              "  <tbody>\n",
              "    <tr>\n",
              "      <td>LogisticRegression</td>\n",
              "      <td>model_LR</td>\n",
              "      <td>0.763842</td>\n",
              "      <td>50.307</td>\n",
              "      <td>0.095</td>\n",
              "    </tr>\n",
              "    <tr>\n",
              "      <td>LinearSVC</td>\n",
              "      <td>model_LSVC</td>\n",
              "      <td>0.763287</td>\n",
              "      <td>8.057</td>\n",
              "      <td>0.005</td>\n",
              "    </tr>\n",
              "    <tr>\n",
              "      <td>RandomForestClassifier</td>\n",
              "      <td>model_RF</td>\n",
              "      <td>0.693002</td>\n",
              "      <td>326.835</td>\n",
              "      <td>3.720</td>\n",
              "    </tr>\n",
              "  </tbody>\n",
              "</table>\n",
              "</div>"
            ],
            "text/plain": [
              "                       Название модели  Метрика F1  Время обучения  \\\n",
              "LogisticRegression            model_LR    0.763842          50.307   \n",
              "LinearSVC                   model_LSVC    0.763287           8.057   \n",
              "RandomForestClassifier        model_RF    0.693002         326.835   \n",
              "\n",
              "                        Время предсказания  \n",
              "LogisticRegression                   0.095  \n",
              "LinearSVC                            0.005  \n",
              "RandomForestClassifier               3.720  "
            ]
          },
          "metadata": {
            "tags": []
          },
          "execution_count": 29
        }
      ]
    },
    {
      "cell_type": "code",
      "metadata": {
        "id": "fQRlcGMbz6gc",
        "outputId": "c5027921-5fe5-482c-9ac7-ca0ec24841e8"
      },
      "source": [
        "result['Метрика F1'].plot(kind='barh', grid=True, alpha=0.7, figsize=(9, 4),  \n",
        "                         title='Качество предсказание моделей').set_xlabel('Метрика F1')"
      ],
      "execution_count": null,
      "outputs": [
        {
          "output_type": "execute_result",
          "data": {
            "text/plain": [
              "Text(0.5, 0, 'Метрика F1')"
            ]
          },
          "metadata": {
            "tags": []
          },
          "execution_count": 30
        },
        {
          "output_type": "display_data",
          "data": {
            "image/png": "[encoded data removed]",
            "text/plain": [
              "<Figure size 648x288 with 1 Axes>"
            ]
          },
          "metadata": {
            "tags": [],
            "needs_background": "light"
          }
        }
      ]
    },
    {
      "cell_type": "markdown",
      "metadata": {
        "id": "2SMzxJsYz6gc"
      },
      "source": [
        "### Вывод по п.2"
      ]
    },
    {
      "cell_type": "markdown",
      "metadata": {
        "id": "fWR3TXX3z6gc"
      },
      "source": [
        "Лучший результат показала **модель model_LR**, обученная с помощью Логистической регрессии. С близким результатом отработала **модель model_LSVC**, обученная с помощью Линейного метода опорных векторов. Самые низкие результаты показала **модель model_RF**, обученная с помощью Случайного леса.\n",
        "\n",
        "Согласно условию проекта **метрика F1** должна быть не ниже **0.75**, следовательно **модели model_LR (F1=0.764) и model_LSVC (F1=0.763)** удовлетворяют условию проекта. При этом скорость обучения и предсказания **модели model_LSVC** меньше чем   **модели model_LR**. \n",
        "**Модель model_RF** не выполняет условие проекта, т.к. показывает качество предсказания ниже требуемого **F1=0.693**, кроме того время обучения и предсказания модели гораздо больше, чем у **моделей model_LR и model_LSVC**. "
      ]
    },
    {
      "cell_type": "markdown",
      "metadata": {
        "id": "Zt_LVb6bz6gc"
      },
      "source": [
        "<a id='3-bullet'></a>\n",
        "# 3. Общие выводы"
      ]
    },
    {
      "cell_type": "markdown",
      "metadata": {
        "id": "58IPxTNBz6gc"
      },
      "source": [
        "Согласно результатам исследования магазину \"Викишоп\", для поиска таксичных комментариев, можно порекомендовать как **модель model_LR** так и **модель model_LSVC**, т.к. обе модели показывают требуемое качество предсказания. \n",
        "Однако, если для заказчика важны такие параметры, как время обучения и времи предсказания, тогда лучше подойдет **модель model_LSVC**, т.к. среди трех рассматриваемых моделей, данная модель быстрее обучается и быстрее выполняет предсказания, и при этом качество предсказания **модели model_LR** незначительно хуже качества предсказания **модели model_LSVC**"
      ]
    },
    {
      "cell_type": "markdown",
      "metadata": {
        "id": "qUJkzrByz6gd"
      },
      "source": [
        "# Чек-лист проверки"
      ]
    },
    {
      "cell_type": "markdown",
      "metadata": {
        "id": "hS8rmhpTz6gd"
      },
      "source": [
        "- [x]  Jupyter Notebook открыт\n",
        "- [ ]  Весь код выполняется без ошибок\n",
        "- [ ]  Ячейки с кодом расположены в порядке исполнения\n",
        "- [ ]  Данные загружены и подготовлены\n",
        "- [ ]  Модели обучены\n",
        "- [ ]  Значение метрики *F1* не меньше 0.75\n",
        "- [ ]  Выводы написаны"
      ]
    }
  ]
}